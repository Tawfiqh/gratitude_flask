{
 "cells": [
  {
   "cell_type": "code",
   "execution_count": 53,
   "metadata": {},
   "outputs": [],
   "source": [
    "import pandas as pd\n",
    "import math\n",
    "filename = 'Beautiful adhkar.csv'\n",
    "df = pd.read_csv(filename)\n",
    "# df.head()"
   ]
  },
  {
   "cell_type": "code",
   "execution_count": 54,
   "metadata": {},
   "outputs": [
    {
     "data": {
      "text/html": [
       "<div>\n",
       "<style scoped>\n",
       "    .dataframe tbody tr th:only-of-type {\n",
       "        vertical-align: middle;\n",
       "    }\n",
       "\n",
       "    .dataframe tbody tr th {\n",
       "        vertical-align: top;\n",
       "    }\n",
       "\n",
       "    .dataframe thead th {\n",
       "        text-align: right;\n",
       "    }\n",
       "</style>\n",
       "<table border=\"1\" class=\"dataframe\">\n",
       "  <thead>\n",
       "    <tr style=\"text-align: right;\">\n",
       "      <th></th>\n",
       "      <th>ID</th>\n",
       "      <th>arabic</th>\n",
       "      <th>english</th>\n",
       "      <th>secondsToRecite</th>\n",
       "      <th>minutesToRecite</th>\n",
       "      <th>shortDescription</th>\n",
       "    </tr>\n",
       "  </thead>\n",
       "  <tbody>\n",
       "    <tr>\n",
       "      <th>0</th>\n",
       "      <td>1</td>\n",
       "      <td>NaN</td>\n",
       "      <td>NaN</td>\n",
       "      <td>120</td>\n",
       "      <td>2.0</td>\n",
       "      <td>salawat x 33</td>\n",
       "    </tr>\n",
       "    <tr>\n",
       "      <th>1</th>\n",
       "      <td>2</td>\n",
       "      <td>NaN</td>\n",
       "      <td>NaN</td>\n",
       "      <td>360</td>\n",
       "      <td>6.0</td>\n",
       "      <td>salawat x 100</td>\n",
       "    </tr>\n",
       "    <tr>\n",
       "      <th>2</th>\n",
       "      <td>3</td>\n",
       "      <td>NaN</td>\n",
       "      <td>NaN</td>\n",
       "      <td>60</td>\n",
       "      <td>1.0</td>\n",
       "      <td>subhanallah x 33, alhamdulillah x 33, allahuak...</td>\n",
       "    </tr>\n",
       "    <tr>\n",
       "      <th>3</th>\n",
       "      <td>4</td>\n",
       "      <td>NaN</td>\n",
       "      <td>NaN</td>\n",
       "      <td>18</td>\n",
       "      <td>0.3</td>\n",
       "      <td>subhanallah x 10, alhamdulillah x 10, allahuak...</td>\n",
       "    </tr>\n",
       "    <tr>\n",
       "      <th>4</th>\n",
       "      <td>5</td>\n",
       "      <td>NaN</td>\n",
       "      <td>NaN</td>\n",
       "      <td>0</td>\n",
       "      <td>NaN</td>\n",
       "      <td>hasbunallahu wa nimal wakeel</td>\n",
       "    </tr>\n",
       "  </tbody>\n",
       "</table>\n",
       "</div>"
      ],
      "text/plain": [
       "   ID  arabic  english  secondsToRecite  minutesToRecite  \\\n",
       "0   1     NaN      NaN              120              2.0   \n",
       "1   2     NaN      NaN              360              6.0   \n",
       "2   3     NaN      NaN               60              1.0   \n",
       "3   4     NaN      NaN               18              0.3   \n",
       "4   5     NaN      NaN                0              NaN   \n",
       "\n",
       "                                    shortDescription  \n",
       "0                                       salawat x 33  \n",
       "1                                      salawat x 100  \n",
       "2  subhanallah x 33, alhamdulillah x 33, allahuak...  \n",
       "3  subhanallah x 10, alhamdulillah x 10, allahuak...  \n",
       "4                       hasbunallahu wa nimal wakeel  "
      ]
     },
     "execution_count": 54,
     "metadata": {},
     "output_type": "execute_result"
    }
   ],
   "source": [
    "df.head()"
   ]
  },
  {
   "cell_type": "code",
   "execution_count": 73,
   "metadata": {},
   "outputs": [
    {
     "name": "stdout",
     "output_type": "stream",
     "text": [
      "(1, None, None, 120, 2, 'salawat x 33')\n",
      "(2, None, None, 360, 6, 'salawat x 100')\n",
      "(3, None, None, 60, 1, 'subhanallah x 33, alhamdulillah x 33, allahuakbar x 33')\n",
      "(4, None, None, 18, 0, 'subhanallah x 10, alhamdulillah x 10, allahuakbar x 10')\n",
      "(5, None, None, 0, 0, 'hasbunallahu wa nimal wakeel')\n",
      "(6, None, None, 18, 0, 'la ilaha illallah x 10')\n",
      "(7, None, None, 30, 0, 'ayat al kursi')\n",
      "(8, None, None, 30, 0, 'al fatihah')\n",
      "(9, None, None, 6, 0, 'Q2:201')\n",
      "(10, None, None, 60, 1, 'astaghfirullah x 100')\n",
      "(11, None, None, 30, 0, 'la hawla wa la quwwata illa billah x 10')\n",
      "(12, None, None, 90, 1, 'la hawla wa la quwwata illa billah x 33')\n",
      "(13, None, None, 300, 5, 'la hawla wa la quwwata illa billah x 100')\n"
     ]
    }
   ],
   "source": [
    "import sqlite3\n",
    "import os\n",
    "\n",
    "# Create a SQL connection to our SQLite database\n",
    "con = sqlite3.connect(os.path.join(\"..\",\"dataentry.sqlite3\"))\n",
    "\n",
    "cur = con.cursor()\n",
    "\n",
    "# The result of a \"cursor.execute\" can be iterated over by row\n",
    "for row in cur.execute('SELECT * FROM adhkar;'):\n",
    "    print(row)\n"
   ]
  },
  {
   "cell_type": "code",
   "execution_count": 74,
   "metadata": {},
   "outputs": [
    {
     "name": "stdout",
     "output_type": "stream",
     "text": [
      "already_found: (1, None, None, 120, 2, 'salawat x 33')\n",
      "already_found: (2, None, None, 360, 6, 'salawat x 100')\n",
      "already_found: (3, None, None, 60, 1, 'subhanallah x 33, alhamdulillah x 33, allahuakbar x 33')\n",
      "already_found: (4, None, None, 18, 0, 'subhanallah x 10, alhamdulillah x 10, allahuakbar x 10')\n",
      "already_found: (5, None, None, 0, 0, 'hasbunallahu wa nimal wakeel')\n",
      "already_found: (6, None, None, 18, 0, 'la ilaha illallah x 10')\n",
      "already_found: (7, None, None, 30, 0, 'ayat al kursi')\n",
      "already_found: (8, None, None, 30, 0, 'al fatihah')\n",
      "already_found: (9, None, None, 6, 0, 'Q2:201')\n",
      "already_found: (10, None, None, 60, 1, 'astaghfirullah x 100')\n",
      "already_found: (11, None, None, 30, 0, 'la hawla wa la quwwata illa billah x 10')\n",
      "already_found: (12, None, None, 90, 1, 'la hawla wa la quwwata illa billah x 33')\n",
      "already_found: (13, None, None, 300, 5, 'la hawla wa la quwwata illa billah x 100')\n",
      "(1, None, None, 120, 2, 'salawat x 33')\n",
      "(2, None, None, 360, 6, 'salawat x 100')\n",
      "(3, None, None, 60, 1, 'subhanallah x 33, alhamdulillah x 33, allahuakbar x 33')\n",
      "(4, None, None, 18, 0, 'subhanallah x 10, alhamdulillah x 10, allahuakbar x 10')\n",
      "(5, None, None, 0, 0, 'hasbunallahu wa nimal wakeel')\n",
      "(6, None, None, 18, 0, 'la ilaha illallah x 10')\n",
      "(7, None, None, 30, 0, 'ayat al kursi')\n",
      "(8, None, None, 30, 0, 'al fatihah')\n",
      "(9, None, None, 6, 0, 'Q2:201')\n",
      "(10, None, None, 60, 1, 'astaghfirullah x 100')\n",
      "(11, None, None, 30, 0, 'la hawla wa la quwwata illa billah x 10')\n",
      "(12, None, None, 90, 1, 'la hawla wa la quwwata illa billah x 33')\n",
      "(13, None, None, 300, 5, 'la hawla wa la quwwata illa billah x 100')\n"
     ]
    }
   ],
   "source": [
    "for index, row in df.iterrows():\n",
    "    shortDesc = row['shortDescription']\n",
    "    search = (shortDesc,) #https://docs.python.org/2/library/sqlite3.html\n",
    "    cur.execute('SELECT * FROM adhkar WHERE shortDescription=?', search)\n",
    "    db_result = cur.fetchone()\n",
    "    if(db_result):\n",
    "        print('already_found:',db_result)\n",
    "    else:\n",
    "        print('not found:',search)\n",
    "        seconds = row['secondsToRecite']\n",
    "        minutes = row['minutesToRecite']\n",
    "        \n",
    "        if(math.isnan(minutes) or math.isnan(seconds)):\n",
    "            if(math.isnan(minutes) and math.isnan(seconds)):\n",
    "                continue;\n",
    "            if(math.isnan(minutes)):\n",
    "                minutes = seconds / 60\n",
    "            if(math.isnan(seconds)):\n",
    "                seconds = minute * 60\n",
    "\n",
    "                \n",
    "        seconds = int(seconds)\n",
    "        minutes = int(minutes)\n",
    "        \n",
    "        adhkar_row = (row['arabic'], row['english'], seconds, minutes, row['shortDescription'])\n",
    "        \n",
    "        cur.execute(\"INSERT INTO adhkar (arabic, english, secondsToRecite, minutesToRecite, shortDescription) VALUES (?,?,?,?,?)\", adhkar_row)\n",
    "        # could batch these up and do them at the end \n",
    "        # but if we do it per-row it avoids duplicates in the same file. \n",
    "        # so it's better todo it per-row.\n",
    "        \n",
    "for row in cur.execute('SELECT * FROM adhkar;'):\n",
    "    print(row)\n",
    "\n"
   ]
  },
  {
   "cell_type": "code",
   "execution_count": 71,
   "metadata": {},
   "outputs": [],
   "source": [
    "con.commit()\n",
    "con.close()"
   ]
  },
  {
   "cell_type": "code",
   "execution_count": null,
   "metadata": {},
   "outputs": [],
   "source": []
  },
  {
   "cell_type": "code",
   "execution_count": null,
   "metadata": {},
   "outputs": [],
   "source": []
  },
  {
   "cell_type": "code",
   "execution_count": null,
   "metadata": {},
   "outputs": [],
   "source": []
  }
 ],
 "metadata": {
  "kernelspec": {
   "display_name": "Python 3",
   "language": "python",
   "name": "python3"
  },
  "language_info": {
   "codemirror_mode": {
    "name": "ipython",
    "version": 3
   },
   "file_extension": ".py",
   "mimetype": "text/x-python",
   "name": "python",
   "nbconvert_exporter": "python",
   "pygments_lexer": "ipython3",
   "version": "3.7.3"
  }
 },
 "nbformat": 4,
 "nbformat_minor": 2
}

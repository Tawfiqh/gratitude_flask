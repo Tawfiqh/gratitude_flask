{
 "cells": [
  {
   "cell_type": "code",
   "execution_count": 1,
   "metadata": {},
   "outputs": [],
   "source": [
    "import pandas as pd\n",
    "import math\n",
    "filename = 'Beautiful adhkar.csv'\n",
    "df = pd.read_csv(filename)\n",
    "# df.head()"
   ]
  },
  {
   "cell_type": "code",
   "execution_count": 2,
   "metadata": {},
   "outputs": [
    {
     "data": {
      "text/html": [
       "<div>\n",
       "<style scoped>\n",
       "    .dataframe tbody tr th:only-of-type {\n",
       "        vertical-align: middle;\n",
       "    }\n",
       "\n",
       "    .dataframe tbody tr th {\n",
       "        vertical-align: top;\n",
       "    }\n",
       "\n",
       "    .dataframe thead th {\n",
       "        text-align: right;\n",
       "    }\n",
       "</style>\n",
       "<table border=\"1\" class=\"dataframe\">\n",
       "  <thead>\n",
       "    <tr style=\"text-align: right;\">\n",
       "      <th></th>\n",
       "      <th>ID</th>\n",
       "      <th>arabic</th>\n",
       "      <th>english</th>\n",
       "      <th>secondsToRecite</th>\n",
       "      <th>minutesToRecite</th>\n",
       "      <th>shortDescription</th>\n",
       "    </tr>\n",
       "  </thead>\n",
       "  <tbody>\n",
       "    <tr>\n",
       "      <th>0</th>\n",
       "      <td>1</td>\n",
       "      <td>NaN</td>\n",
       "      <td>NaN</td>\n",
       "      <td>120</td>\n",
       "      <td>2.0</td>\n",
       "      <td>salawat x 33</td>\n",
       "    </tr>\n",
       "    <tr>\n",
       "      <th>1</th>\n",
       "      <td>2</td>\n",
       "      <td>NaN</td>\n",
       "      <td>NaN</td>\n",
       "      <td>360</td>\n",
       "      <td>6.0</td>\n",
       "      <td>salawat x 100</td>\n",
       "    </tr>\n",
       "    <tr>\n",
       "      <th>2</th>\n",
       "      <td>3</td>\n",
       "      <td>NaN</td>\n",
       "      <td>NaN</td>\n",
       "      <td>60</td>\n",
       "      <td>1.0</td>\n",
       "      <td>subhanallah x 33, alhamdulillah x 33, allahuak...</td>\n",
       "    </tr>\n",
       "    <tr>\n",
       "      <th>3</th>\n",
       "      <td>4</td>\n",
       "      <td>NaN</td>\n",
       "      <td>NaN</td>\n",
       "      <td>18</td>\n",
       "      <td>0.3</td>\n",
       "      <td>subhanallah x 10, alhamdulillah x 10, allahuak...</td>\n",
       "    </tr>\n",
       "    <tr>\n",
       "      <th>4</th>\n",
       "      <td>5</td>\n",
       "      <td>NaN</td>\n",
       "      <td>NaN</td>\n",
       "      <td>0</td>\n",
       "      <td>NaN</td>\n",
       "      <td>hasbunallahu wa nimal wakeel</td>\n",
       "    </tr>\n",
       "  </tbody>\n",
       "</table>\n",
       "</div>"
      ],
      "text/plain": [
       "   ID  arabic  english  secondsToRecite  minutesToRecite  \\\n",
       "0   1     NaN      NaN              120              2.0   \n",
       "1   2     NaN      NaN              360              6.0   \n",
       "2   3     NaN      NaN               60              1.0   \n",
       "3   4     NaN      NaN               18              0.3   \n",
       "4   5     NaN      NaN                0              NaN   \n",
       "\n",
       "                                    shortDescription  \n",
       "0                                       salawat x 33  \n",
       "1                                      salawat x 100  \n",
       "2  subhanallah x 33, alhamdulillah x 33, allahuak...  \n",
       "3  subhanallah x 10, alhamdulillah x 10, allahuak...  \n",
       "4                       hasbunallahu wa nimal wakeel  "
      ]
     },
     "execution_count": 2,
     "metadata": {},
     "output_type": "execute_result"
    }
   ],
   "source": [
    "df.head()"
   ]
  },
  {
   "cell_type": "code",
   "execution_count": 65,
   "metadata": {},
   "outputs": [
    {
     "ename": "ProgrammingError",
     "evalue": "no results to fetch",
     "output_type": "error",
     "traceback": [
      "\u001b[0;31m---------------------------------------------------------------------------\u001b[0m",
      "\u001b[0;31mProgrammingError\u001b[0m                          Traceback (most recent call last)",
      "\u001b[0;32m<ipython-input-65-f1d802ea83f7>\u001b[0m in \u001b[0;36m<module>\u001b[0;34m\u001b[0m\n\u001b[1;32m     29\u001b[0m \u001b[0;34m\u001b[0m\u001b[0m\n\u001b[1;32m     30\u001b[0m     \u001b[0;31m# The result of a \"cursor.execute\" can be iterated over by row\u001b[0m\u001b[0;34m\u001b[0m\u001b[0;34m\u001b[0m\u001b[0;34m\u001b[0m\u001b[0m\n\u001b[0;32m---> 31\u001b[0;31m     \u001b[0;32mfor\u001b[0m \u001b[0mrow\u001b[0m \u001b[0;32min\u001b[0m \u001b[0mcur\u001b[0m\u001b[0;34m.\u001b[0m\u001b[0mfetchall\u001b[0m\u001b[0;34m(\u001b[0m\u001b[0;34m)\u001b[0m\u001b[0;34m:\u001b[0m\u001b[0;34m\u001b[0m\u001b[0;34m\u001b[0m\u001b[0m\n\u001b[0m\u001b[1;32m     32\u001b[0m         \u001b[0mprint\u001b[0m\u001b[0;34m(\u001b[0m\u001b[0mrow\u001b[0m\u001b[0;34m)\u001b[0m\u001b[0;34m\u001b[0m\u001b[0;34m\u001b[0m\u001b[0m\n\u001b[1;32m     33\u001b[0m \u001b[0;34m\u001b[0m\u001b[0m\n",
      "\u001b[0;31mProgrammingError\u001b[0m: no results to fetch"
     ]
    }
   ],
   "source": [
    "local = True;\n",
    "\n",
    "if(local):\n",
    "    import sqlite3\n",
    "    import os\n",
    "\n",
    "    # Create a SQL connection to our SQLite database\n",
    "    con = sqlite3.connect(os.path.join(\"..\",\"dataentry.sqlite3\"))\n",
    "\n",
    "    cur = con.cursor()\n",
    "\n",
    "    # The result of a \"cursor.execute\" can be iterated over by row\n",
    "    for row in cur.execute('SELECT * FROM adhkar;'):\n",
    "        print(row)\n",
    "        \n",
    "else:\n",
    "    import psycopg2\n",
    "\n",
    "    # con = sqlite3.connect(os.path.join(\"..\",\"dataentry.sqlite3\"))\n",
    "    con = psycopg2.connect(host=\"\",\n",
    "                            database=\"\", \n",
    "                            user=\"\", \n",
    "                            port=1111,\n",
    "                            password=\"\")\n",
    "\n",
    "\n",
    "    cur = con.cursor()\n",
    "\n",
    "    # The result of a \"cursor.execute\" can be iterated over by row\n",
    "    for row in cur.fetchall():\n",
    "        print(row)\n"
   ]
  },
  {
   "cell_type": "code",
   "execution_count": 66,
   "metadata": {},
   "outputs": [
    {
     "name": "stdout",
     "output_type": "stream",
     "text": [
      "not found - inserting: salawat x 33\n",
      "not found - inserting: salawat x 100\n",
      "not found - inserting: subhanallah x 33, alhamdulillah x 33, allahuakbar x 33\n",
      "not found - inserting: subhanallah x 10, alhamdulillah x 10, allahuakbar x 10\n",
      "not found - inserting: hasbunallahu wa nimal wakeel\n",
      "not found - inserting: la ilaha illallah x 10\n",
      "not found - inserting: ayat al kursi\n",
      "not found - inserting: al fatihah\n",
      "not found - inserting: Q2:201\n",
      "not found - inserting: astaghfirullah x 100\n",
      "not found - inserting: la hawla wa la quwwata illa billah x 10\n",
      "not found - inserting: la hawla wa la quwwata illa billah x 33\n",
      "not found - inserting: la hawla wa la quwwata illa billah x 100\n"
     ]
    }
   ],
   "source": [
    "\n",
    "for index, row in df.iterrows():\n",
    "    shortDesc = row['shortDescription']\n",
    "    search = (shortDesc,) #https://docs.python.org/2/library/sqlite3.html\n",
    "\n",
    "    if(local):\n",
    "        sqlSearch='SELECT * FROM adhkar WHERE \"shortDescription\" = ?;'\n",
    "    else:\n",
    "        sqlSearch='SELECT * FROM adhkar WHERE \"shortDescription\" = %s;'\n",
    "    \n",
    "    cur.execute(sqlSearch, search)\n",
    "    db_result = cur.fetchone()\n",
    "    if(db_result):\n",
    "        print('already_found:',db_result)\n",
    "    else:\n",
    "        print('not found - inserting:',shortDesc)\n",
    "        seconds = row['secondsToRecite']\n",
    "        minutes = row['minutesToRecite']\n",
    "        \n",
    "        if(math.isnan(minutes) or math.isnan(seconds)):\n",
    "            if(math.isnan(minutes) and math.isnan(seconds)):\n",
    "                continue;\n",
    "            if(math.isnan(minutes)):\n",
    "                minutes = seconds / 60\n",
    "            if(math.isnan(seconds)):\n",
    "                seconds = minute * 60\n",
    "\n",
    "                \n",
    "        seconds = int(seconds)\n",
    "        minutes = int(minutes)\n",
    "        \n",
    "        adhkar_row = (row['arabic'], row['english'], seconds, minutes, row['shortDescription'])\n",
    "        if(local):\n",
    "            sqlInsert='INSERT INTO adhkar (arabic, english, \"secondsToRecite\", \"minutesToRecite\", \"shortDescription\") VALUES (?,?,?,?,?)'\n",
    "        else:\n",
    "            sqlInsert='INSERT INTO adhkar (arabic, english, \"secondsToRecite\", \"minutesToRecite\", \"shortDescription\") VALUES (%s,%s,%s,%s,%s)'\n",
    "    \n",
    "        cur.execute(sqlInsert, adhkar_row)\n",
    "        # could batch these up and do them at the end \n",
    "        # but if we do it per-row it avoids duplicates in the same file. \n",
    "        # so it's better todo it per-row.\n",
    "\n",
    "cur.close()\n",
    "con.commit()\n",
    "con.close()"
   ]
  },
  {
   "cell_type": "code",
   "execution_count": 47,
   "metadata": {},
   "outputs": [],
   "source": []
  },
  {
   "cell_type": "code",
   "execution_count": null,
   "metadata": {},
   "outputs": [],
   "source": []
  },
  {
   "cell_type": "code",
   "execution_count": null,
   "metadata": {},
   "outputs": [],
   "source": []
  },
  {
   "cell_type": "code",
   "execution_count": null,
   "metadata": {},
   "outputs": [],
   "source": []
  }
 ],
 "metadata": {
  "kernelspec": {
   "display_name": "Python 3",
   "language": "python",
   "name": "python3"
  },
  "language_info": {
   "codemirror_mode": {
    "name": "ipython",
    "version": 3
   },
   "file_extension": ".py",
   "mimetype": "text/x-python",
   "name": "python",
   "nbconvert_exporter": "python",
   "pygments_lexer": "ipython3",
   "version": "3.7.3"
  }
 },
 "nbformat": 4,
 "nbformat_minor": 2
}
